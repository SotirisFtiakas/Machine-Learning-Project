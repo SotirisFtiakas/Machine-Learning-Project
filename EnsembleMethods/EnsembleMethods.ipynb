{
 "cells": [
  {
   "cell_type": "markdown",
   "metadata": {},
   "source": [
    "## About iPython Notebooks ##\n",
    "\n",
    "iPython Notebooks are interactive coding environments embedded in a webpage. You will be using iPython notebooks in this class. Make sure you fill in any place that says `# BEGIN CODE HERE #END CODE HERE`. After writing your code, you can run the cell by either pressing \"SHIFT\"+\"ENTER\" or by clicking on \"Run\" (denoted by a play symbol). Before you turn this problem in, make sure everything runs as expected. First, **restart the kernel** (in the menubar, select Kernel$\\rightarrow$Restart) and then **run all cells** (in the menubar, select Cell$\\rightarrow$Run All). \n",
    "\n",
    " **What you need to remember:**\n",
    "\n",
    "- Run your cells using SHIFT+ENTER (or \"Run cell\")\n",
    "- Write code in the designated areas using Python 3 only\n",
    "- Do not modify the code outside of the designated areas\n",
    "- In some cases you will also need to explain the results. There will also be designated areas for that. \n",
    "\n",
    "Fill in your **NAME** and **AEM** below:"
   ]
  },
  {
   "cell_type": "code",
   "execution_count": 1,
   "metadata": {},
   "outputs": [],
   "source": [
    "NAME = \"Sotiris Ftiakas\"\n",
    "AEM = \"3076\""
   ]
  },
  {
   "cell_type": "markdown",
   "metadata": {},
   "source": [
    "---"
   ]
  },
  {
   "cell_type": "markdown",
   "metadata": {
    "deletable": false,
    "editable": false,
    "nbgrader": {
     "cell_type": "markdown",
     "checksum": "1da26a63e48275bf64ed3608a92f75ac",
     "grade": false,
     "grade_id": "cell-28329c89a3d9ebb8",
     "locked": true,
     "schema_version": 3,
     "solution": false,
     "task": false
    }
   },
   "source": [
    "# Assignment 3 - Ensemble Methods #"
   ]
  },
  {
   "cell_type": "markdown",
   "metadata": {
    "deletable": false,
    "editable": false,
    "nbgrader": {
     "cell_type": "markdown",
     "checksum": "2e378be0e0c4ed85ebc6bcc53e256aa5",
     "grade": false,
     "grade_id": "cell-17ca53188deb1a2b",
     "locked": true,
     "schema_version": 3,
     "solution": false,
     "task": false
    }
   },
   "source": [
    "Welcome to your third assignment. This exercise will test your understanding on Ensemble Methods."
   ]
  },
  {
   "cell_type": "code",
   "execution_count": 1,
   "metadata": {
    "deletable": false,
    "editable": false,
    "nbgrader": {
     "cell_type": "code",
     "checksum": "7fb9c467676bec1973d8e90bb815e23f",
     "grade": false,
     "grade_id": "cell-1a33a1efbf02238c",
     "locked": true,
     "schema_version": 3,
     "solution": false,
     "task": false
    }
   },
   "outputs": [],
   "source": [
    "# Always run this cell\n",
    "import numpy as np\n",
    "import pandas as pd\n",
    "\n",
    "# USE THE FOLLOWING RANDOM STATE FOR YOUR CODE\n",
    "RANDOM_STATE = 42"
   ]
  },
  {
   "cell_type": "markdown",
   "metadata": {
    "deletable": false,
    "editable": false,
    "nbgrader": {
     "cell_type": "markdown",
     "checksum": "aa2d11566658cb0f6d5ea19212a619de",
     "grade": false,
     "grade_id": "cell-7210caf6b2891007",
     "locked": true,
     "schema_version": 3,
     "solution": false,
     "task": false
    }
   },
   "source": [
    "## Download the Dataset ##\n",
    "Download the dataset using the following cell or from this [link](https://github.com/sakrifor/public/tree/master/machine_learning_course/EnsembleDataset) and put the files in the same folder as the .ipynb file. \n",
    "In this assignment you are going to work with a dataset originated from the [ImageCLEFmed: The Medical Task 2016](https://www.imageclef.org/2016/medical) and the **Compound figure detection** subtask. The goal of this subtask is to identify whether a figure is a compound figure (one image consists of more than one figure) or not. The train dataset consits of 4197 examples/figures and each figure has 4096 features which were extracted using a deep neural network. The *CLASS* column represents the class of each example where 1 is a compoung figure and 0 is not. \n"
   ]
  },
  {
   "cell_type": "code",
   "execution_count": 8,
   "metadata": {
    "deletable": false,
    "editable": false,
    "nbgrader": {
     "cell_type": "code",
     "checksum": "c426c8680b4b28c9595139bec1d32f27",
     "grade": false,
     "grade_id": "cell-a413577b7685bfbe",
     "locked": true,
     "schema_version": 3,
     "solution": false,
     "task": false
    }
   },
   "outputs": [
    {
     "data": {
      "text/plain": [
       "('test_set_noclass.csv', <http.client.HTTPMessage at 0xca92255400>)"
      ]
     },
     "execution_count": 8,
     "metadata": {},
     "output_type": "execute_result"
    }
   ],
   "source": [
    "import urllib.request\n",
    "url_train = 'https://github.com/sakrifor/public/raw/master/machine_learning_course/EnsembleDataset/train_set.csv'\n",
    "filename_train = 'train_set.csv'\n",
    "urllib.request.urlretrieve(url_train, filename_train)\n",
    "url_test = 'https://github.com/sakrifor/public/raw/master/machine_learning_course/EnsembleDataset/test_set_noclass.csv'\n",
    "filename_test = 'test_set_noclass.csv'\n",
    "urllib.request.urlretrieve(url_test, filename_test)"
   ]
  },
  {
   "cell_type": "code",
   "execution_count": 29,
   "metadata": {
    "deletable": false,
    "editable": false,
    "nbgrader": {
     "cell_type": "code",
     "checksum": "5e073a9f617d5e2e192ef70d370f000b",
     "grade": false,
     "grade_id": "cell-cbadea205635117c",
     "locked": true,
     "schema_version": 3,
     "solution": false,
     "task": false
    }
   },
   "outputs": [],
   "source": [
    "# Run this cell to load the data\n",
    "train_set = pd.read_csv(\"train_set.csv\").sample(frac=1).reset_index(drop=True)\n",
    "train_set.head()\n",
    "X = train_set.drop(columns=['CLASS'])\n",
    "y = train_set['CLASS'].values"
   ]
  },
  {
   "cell_type": "markdown",
   "metadata": {
    "deletable": false,
    "editable": false,
    "nbgrader": {
     "cell_type": "markdown",
     "checksum": "e5c0ed51001ec5b7e6cdcef1303473e7",
     "grade": false,
     "grade_id": "cell-4f509bca5cb87e84",
     "locked": true,
     "schema_version": 3,
     "solution": false,
     "task": false
    }
   },
   "source": [
    "## 1.0 Testing different ensemble methods ##\n",
    "In this part of the assignment you are asked to create and test different ensemble methods using the train_set.csv dataset. You should use **10-fold cross validation** for your tests and report the average f-measure and accuracy of your models.\n",
    "\n",
    "### !!! Use n_jobs=-1 where is posibble to use all the cores of a machine for running your tests ###"
   ]
  },
  {
   "cell_type": "markdown",
   "metadata": {
    "deletable": false,
    "editable": false,
    "nbgrader": {
     "cell_type": "markdown",
     "checksum": "5d56eafac9ce59f34521ab931a24e9c8",
     "grade": false,
     "grade_id": "cell-db7468662add40fe",
     "locked": true,
     "schema_version": 3,
     "solution": false,
     "task": false
    }
   },
   "source": [
    "### 1.1 Voting ###\n",
    "Create a voting classifier which uses three estimators/classifiers. Test both soft and hard voting and choose the best one."
   ]
  },
  {
   "cell_type": "code",
   "execution_count": 8,
   "metadata": {
    "deletable": false,
    "nbgrader": {
     "cell_type": "code",
     "checksum": "bbf11fd8382f22bddabe61416516e7be",
     "grade": true,
     "grade_id": "cell-3a1719cdb031d112",
     "locked": false,
     "points": 10,
     "schema_version": 3,
     "solution": true,
     "task": false
    }
   },
   "outputs": [],
   "source": [
    "# BEGIN CODE HERE\n",
    "from sklearn.linear_model import LogisticRegression\n",
    "from sklearn.tree import DecisionTreeClassifier\n",
    "from sklearn.ensemble import VotingClassifier\n",
    "from sklearn.model_selection import cross_validate\n",
    "\n",
    "jobs=-1\n",
    "\n",
    "# Here I build my classifiers:\n",
    "\n",
    "cls1 = LogisticRegression(n_jobs=jobs) # Classifier #1 \n",
    "cls2 = DecisionTreeClassifier(random_state=RANDOM_STATE) # Classifier #2\n",
    "cls3 = DecisionTreeClassifier(criterion='entropy', max_depth=3, random_state=RANDOM_STATE) # Classifier #3 \n",
    "\n",
    "vcls = VotingClassifier([('LR', cls1), ('DTC1', cls2), ('DTC2', cls3)], voting='hard') # Voting Classifier (HARD) * CHOSEN ONE *\n",
    "\n",
    "vcls2 = VotingClassifier([('LR', cls1), ('DTC1', cls2), ('DTC2', cls3)], voting=\"soft\") # Voting Classifier (SOFT)\n",
    "\n",
    "# Here I store the 10-fold cross validation results for soft and hard voting.\n",
    "\n",
    "scoreHard = cross_validate(vcls, X, y, cv=10, scoring=('f1','accuracy'), n_jobs=jobs)\n",
    "# print(\"Hard Voting Classifier F1 Score:{}\".format(scoreHard[\"test_f1\"].mean()))            # For testing purposes\n",
    "# print(\"Hard Voting Classifier Accuracy:{}\".format(scoreHard[\"test_accuracy\"].mean()))\n",
    "\n",
    "scoreSoft = cross_validate(vcls2, X, y, cv=10, scoring=('f1','accuracy'), n_jobs=jobs)\n",
    "# print(\"Soft Voting Classifier F1 Score:{}\".format(scoreSoft[\"test_f1\"].mean()))            # For testing purposes\n",
    "# print(\"Soft Voting Classifier Accuracy:{}\".format(scoreSoft[\"test_accuracy\"].mean()))\n",
    "\n",
    "\n",
    "avg_fmeasure = scoreHard[\"test_f1\"].mean()           # The average f-measure\n",
    "avg_accuracy = scoreHard[\"test_accuracy\"].mean()     # The average accuracy\n",
    "\n",
    "\n",
    "#END CODE HERE"
   ]
  },
  {
   "cell_type": "code",
   "execution_count": 9,
   "metadata": {
    "deletable": false,
    "editable": false,
    "nbgrader": {
     "cell_type": "code",
     "checksum": "2f0e52e5eea2eb2cb23380c80ff846cf",
     "grade": false,
     "grade_id": "cell-0ef59e80595937ed",
     "locked": true,
     "schema_version": 3,
     "solution": false,
     "task": false
    }
   },
   "outputs": [
    {
     "name": "stdout",
     "output_type": "stream",
     "text": [
      "Classifier:\n",
      "VotingClassifier(estimators=[('LR',\n",
      "                              LogisticRegression(C=1.0, class_weight=None,\n",
      "                                                 dual=False, fit_intercept=True,\n",
      "                                                 intercept_scaling=1,\n",
      "                                                 l1_ratio=None, max_iter=100,\n",
      "                                                 multi_class='auto', n_jobs=-1,\n",
      "                                                 penalty='l2',\n",
      "                                                 random_state=None,\n",
      "                                                 solver='lbfgs', tol=0.0001,\n",
      "                                                 verbose=0, warm_start=False)),\n",
      "                             ('DTC1',\n",
      "                              DecisionTreeClassifier(ccp_alpha=0.0,\n",
      "                                                     class_weight=None,\n",
      "                                                     criterion='gini',...\n",
      "                              DecisionTreeClassifier(ccp_alpha=0.0,\n",
      "                                                     class_weight=None,\n",
      "                                                     criterion='entropy',\n",
      "                                                     max_depth=3,\n",
      "                                                     max_features=None,\n",
      "                                                     max_leaf_nodes=None,\n",
      "                                                     min_impurity_decrease=0.0,\n",
      "                                                     min_impurity_split=None,\n",
      "                                                     min_samples_leaf=1,\n",
      "                                                     min_samples_split=2,\n",
      "                                                     min_weight_fraction_leaf=0.0,\n",
      "                                                     presort='deprecated',\n",
      "                                                     random_state=42,\n",
      "                                                     splitter='best'))],\n",
      "                 flatten_transform=True, n_jobs=None, voting='hard',\n",
      "                 weights=None)\n",
      "F1-Score:0.8134109499276949 & Accuracy:0.7778872599158995\n"
     ]
    }
   ],
   "source": [
    "print(\"Classifier:\")\n",
    "print(vcls)\n",
    "print(\"F1-Score:{} & Accuracy:{}\".format(avg_fmeasure,avg_accuracy))"
   ]
  },
  {
   "cell_type": "markdown",
   "metadata": {
    "deletable": false,
    "editable": false,
    "nbgrader": {
     "cell_type": "markdown",
     "checksum": "8c7e6ab511ff3a546d2e2efb5feb892f",
     "grade": false,
     "grade_id": "cell-f6d620a3fd102626",
     "locked": true,
     "schema_version": 3,
     "solution": false,
     "task": false
    }
   },
   "source": [
    "### 1.2 Stacking ###\n",
    "Create a stacking classifier which uses two estimators/classifiers. Try different classifiers for the combination of the initial classifiers. Report your results in the following cell."
   ]
  },
  {
   "cell_type": "code",
   "execution_count": 12,
   "metadata": {
    "deletable": false,
    "nbgrader": {
     "cell_type": "code",
     "checksum": "bc7e22a168b668cbd10c524297950133",
     "grade": true,
     "grade_id": "cell-2ae5e38bd546681e",
     "locked": false,
     "points": 10,
     "schema_version": 3,
     "solution": true,
     "task": false
    }
   },
   "outputs": [],
   "source": [
    "# BEGIN CODE HERE\n",
    "from sklearn.ensemble import StackingClassifier\n",
    "from sklearn.linear_model import LogisticRegression\n",
    "from sklearn.tree import DecisionTreeClassifier\n",
    "\n",
    "# Here I build 4 different classifiers\n",
    "\n",
    "cls1 = LogisticRegression(n_jobs=jobs) # Classifier #1 \n",
    "cls2 = DecisionTreeClassifier(random_state=RANDOM_STATE) # Classifier #2 \n",
    "cls3 = DecisionTreeClassifier(criterion='entropy', max_depth=3, random_state=RANDOM_STATE) # CLassifier #3\n",
    "cls4 = DecisionTreeClassifier(max_leaf_nodes=350, random_state=RANDOM_STATE) # CLassifier #4\n",
    "\n",
    "# Here I stack 2 classifiers each time, using all different combinations\n",
    "\n",
    "scls = StackingClassifier([(\"LR\", cls1),(\"DTC\", cls2)]) # Stacking Classifier\n",
    "scls2 = StackingClassifier([(\"LR\", cls1),(\"DTC\", cls3)]) # Stacking Classifier * CHOSEN ONE *\n",
    "scls3 = StackingClassifier([(\"LR\", cls1),(\"DTC\", cls4)]) # Stacking Classifier\n",
    "scls4 = StackingClassifier([(\"DTC1\", cls3),(\"DTC2\", cls2)]) # Stacking Classifier\n",
    "scls5 = StackingClassifier([(\"DTC1\", cls4),(\"DTC2\", cls2)]) # Stacking Classifier\n",
    "scls6 = StackingClassifier([(\"DTC1\", cls3),(\"DTC2\", cls4)]) # Stacking Classifier\n",
    "\n",
    "# Here I store the 10-fold cross validation results and print the average accuracy and f1_score of the stacking classifier.\n",
    "\n",
    "score = cross_validate(scls2, X, y, cv=10, scoring=('f1','accuracy'), n_jobs=jobs)\n",
    "# print(\"Stacking Classifier F1 Score:{}\".format(score[\"test_f1\"].mean()))            # For testing purposes\n",
    "# print(\"Stacking Classifier Accuracy:{}\".format(score[\"test_accuracy\"].mean()))\n",
    "\n",
    "# Change scls with the best stacking classifier\n",
    "\n",
    "scls = scls2 # Stacking Classifier * CHOSEN ONE *\n",
    "\n",
    "avg_fmeasure = score[\"test_f1\"].mean()          # The average f-measure\n",
    "avg_accuracy = score[\"test_accuracy\"].mean()    # The average accuracy\n",
    "\n",
    "#END CODE HERE"
   ]
  },
  {
   "cell_type": "code",
   "execution_count": 13,
   "metadata": {
    "deletable": false,
    "editable": false,
    "nbgrader": {
     "cell_type": "code",
     "checksum": "1a27a3122627aed7d5a6f5678055f712",
     "grade": false,
     "grade_id": "cell-6d6cadab378a2b03",
     "locked": true,
     "schema_version": 3,
     "solution": false,
     "task": false
    }
   },
   "outputs": [
    {
     "name": "stdout",
     "output_type": "stream",
     "text": [
      "Classifier:\n",
      "StackingClassifier(cv=None,\n",
      "                   estimators=[('LR',\n",
      "                                LogisticRegression(C=1.0, class_weight=None,\n",
      "                                                   dual=False,\n",
      "                                                   fit_intercept=True,\n",
      "                                                   intercept_scaling=1,\n",
      "                                                   l1_ratio=None, max_iter=100,\n",
      "                                                   multi_class='auto',\n",
      "                                                   n_jobs=-1, penalty='l2',\n",
      "                                                   random_state=None,\n",
      "                                                   solver='lbfgs', tol=0.0001,\n",
      "                                                   verbose=0,\n",
      "                                                   warm_start=False)),\n",
      "                               ('DTC',\n",
      "                                DecisionTreeClassifier(ccp_alpha=0.0,\n",
      "                                                       class_weight=None,\n",
      "                                                       criterion='entropy',\n",
      "                                                       max_depth=3,\n",
      "                                                       max_features=None,\n",
      "                                                       max_leaf_nodes=None,\n",
      "                                                       min_impurity_decrease=0.0,\n",
      "                                                       min_impurity_split=None,\n",
      "                                                       min_samples_leaf=1,\n",
      "                                                       min_samples_split=2,\n",
      "                                                       min_weight_fraction_leaf=0.0,\n",
      "                                                       presort='deprecated',\n",
      "                                                       random_state=42,\n",
      "                                                       splitter='best'))],\n",
      "                   final_estimator=None, n_jobs=None, passthrough=False,\n",
      "                   stack_method='auto', verbose=0)\n",
      "F1-Score:0.8624916745468472 & Accuracy:0.8367592908285031\n"
     ]
    }
   ],
   "source": [
    "print(\"Classifier:\")\n",
    "print(scls)\n",
    "print(\"F1-Score:{} & Accuracy:{}\".format(avg_fmeasure,avg_accuracy))"
   ]
  },
  {
   "cell_type": "markdown",
   "metadata": {
    "deletable": false,
    "editable": false,
    "nbgrader": {
     "cell_type": "markdown",
     "checksum": "a6b0c745a12e384341f4e246c5242d25",
     "grade": false,
     "grade_id": "cell-8a05446ba9a944c3",
     "locked": true,
     "schema_version": 3,
     "solution": false,
     "task": false
    }
   },
   "source": [
    "### 1.3 Report the results ###  \n",
    "Report the results of your experiments in the following cell. How did you choose your initial classifiers? "
   ]
  },
  {
   "attachments": {
    "image.png": {
     "image/png": "[encoded data removed]"
    }
   },
   "cell_type": "markdown",
   "metadata": {
    "deletable": false,
    "nbgrader": {
     "cell_type": "markdown",
     "checksum": "e3da261e2e18ede4c057e21e080b9bac",
     "grade": true,
     "grade_id": "cell-1522ee0b7c414fba",
     "locked": false,
     "points": 5,
     "schema_version": 3,
     "solution": true,
     "task": false
    }
   },
   "source": [
    "### 1.1 Voting ( Report )\n",
    "I tried using different classifiers based on the ones we have previously learned, so i used a Logistic Regressor, and many Decision Trees with different parameters (max_depth, max_leaf_nodes, criterion, etc.). Then i used a cross validation on the dataset given and I ended up with the following results: \n",
    "\n",
    "![image.png](attachment:image.png)\n",
    "\n",
    "I didn't really notice any significant difference between my ***hard*** and my ***soft*** voting classifiers, but the ***hard*** voting classifier achieved slightly better accuracy and f1 score so **I chose the hard voting classifier**.\n",
    "\n",
    "____\n",
    "\n",
    "Something worth noticing is that due to linear regression having better accuracy than the trees, and the fact that the Voting Classifier used 2 Decision Trees and only 1 Linear Regressor, we can see that the Voting Classifier didnt achieve better accuracy than the simple Linear Regression. ***(due to majority decision)***"
   ]
  },
  {
   "attachments": {
    "image.png": {
     "image/png": "[encoded data removed]"
    }
   },
   "cell_type": "markdown",
   "metadata": {},
   "source": [
    "### 1.2 Stacking ( Report )\n",
    "Here i tried using 4 different classifiers, which gave me 6 different stacking classifiers, doing all the combinations. The classifiers and stacking classifiers I used can be seen on the according cell. The results of the 6 different stacking classifiers were the following: \n",
    "\n",
    "![image.png](attachment:image.png)\n",
    "\n",
    "As we can see, the first 3 stacking classifiers that used the Linear Regressor, achieved significant better accuracy and f1 score than the stacking classifiers using only Decision Trees.\n",
    "\n",
    "The best result was achieved by the second classifier, using the Linear Regressor and a Decision Tree with *max_nodes=3* and *criterion=\"entropy\"*. So **the stacking classifier I used was the No.2** .\n",
    "\n",
    "________\n",
    "\n",
    "***NOTE:*** *Report results might be a little different than shown results, because I first used the ***cross_val_score*** function and finally changed to ***cross_validate*** function*\n"
   ]
  },
  {
   "cell_type": "markdown",
   "metadata": {
    "deletable": false,
    "editable": false,
    "nbgrader": {
     "cell_type": "markdown",
     "checksum": "d7520f22a6a708d14fa6d56d42b78d9f",
     "grade": false,
     "grade_id": "cell-b40c3a7c4ef32588",
     "locked": true,
     "schema_version": 3,
     "solution": false,
     "task": false
    }
   },
   "source": [
    "## 2.0 Randomization ##"
   ]
  },
  {
   "cell_type": "markdown",
   "metadata": {
    "deletable": false,
    "editable": false,
    "nbgrader": {
     "cell_type": "markdown",
     "checksum": "045df299ef8fab6007f9588af5a34d65",
     "grade": false,
     "grade_id": "cell-64c9c6881b26f5bb",
     "locked": true,
     "schema_version": 3,
     "solution": false,
     "task": false
    }
   },
   "source": [
    "**2.1** You are asked to create three ensembles of decision trees where each one is produced with a different way from the ones discussed in the lecture for producing homogeneous ensembles. Compare them with a simple decision tree classifier and report your results in the dictionaries (dict) below using as key the given name of your classifier and as value the f1/accuracy score. The dictionaries should contain four different elements.  "
   ]
  },
  {
   "cell_type": "code",
   "execution_count": 5,
   "metadata": {
    "deletable": false,
    "nbgrader": {
     "cell_type": "code",
     "checksum": "1661b594e02f8f8a73ceaad8f03b85a3",
     "grade": true,
     "grade_id": "cell-9e760b938516b506",
     "locked": false,
     "points": 30,
     "schema_version": 3,
     "solution": true,
     "task": false
    }
   },
   "outputs": [],
   "source": [
    "# BEGIN CODE HERE\n",
    "from sklearn.ensemble import BaggingClassifier\n",
    "from sklearn.ensemble import RandomForestClassifier\n",
    "from sklearn.ensemble import GradientBoostingClassifier\n",
    "from sklearn.tree import DecisionTreeClassifier\n",
    "from sklearn.model_selection import cross_validate\n",
    "\n",
    "\n",
    "ens1 = BaggingClassifier(DecisionTreeClassifier(random_state=RANDOM_STATE), n_estimators=100, n_jobs=jobs, random_state=RANDOM_STATE)\n",
    "ens2 = RandomForestClassifier(n_estimators=100, random_state=RANDOM_STATE, n_jobs=jobs)\n",
    "ens3 = GradientBoostingClassifier(n_estimators=100, random_state=RANDOM_STATE)\n",
    "tree = DecisionTreeClassifier(random_state=RANDOM_STATE)\n",
    "\n",
    "score1 = cross_validate(ens1, X, y, cv=10, scoring=('f1','accuracy'), n_jobs=jobs)\n",
    "# print(\"No.1 Ensemble F1 Score:{}\".format(score1[\"test_f1\"].mean()))            # For testing purposes\n",
    "# print(\"No.1 Ensemble Accuracy:{}\".format(score1[\"test_accuracy\"].mean()))\n",
    "\n",
    "score2 = cross_validate(ens2, X, y, cv=10, scoring=('f1','accuracy'), n_jobs=jobs)\n",
    "# print(\"No.2 Ensemble F1 Score:{}\".format(score2[\"test_f1\"].mean()))            # For testing purposes\n",
    "# print(\"No.2 Ensemble Accuracy:{}\".format(score2[\"test_accuracy\"].mean()))\n",
    "\n",
    "score3 = cross_validate(ens3, X, y, cv=10, scoring=('f1','accuracy'), n_jobs=jobs)\n",
    "# print(\"No.3 Ensemble F1 Score:{}\".format(score3[\"test_f1\"].mean()))            # For testing purposes\n",
    "# print(\"No.3 Ensemble Accuracy:{}\".format(score3[\"test_accuracy\"].mean()))\n",
    "\n",
    "score4 = cross_validate(tree, X, y, cv=10, scoring=('f1','accuracy'), n_jobs=jobs)\n",
    "# print(\"Decision Tree Classifier F1 Score:{}\".format(score4[\"test_f1\"].mean()))            # For testing purposes\n",
    "# print(\"Decision Tree Classifier Accuracy:{}\".format(score4[\"test_accuracy\"].mean()))\n",
    "\n",
    "# The list of names and accuracy of the models.\n",
    "\n",
    "f_measures = dict({'Ensemble with Bagging(Decision Tree)':score1[\"test_f1\"].mean(), 'Ensemble with Random Forest':score2[\"test_f1\"].mean(), 'Ensemble with Gradient Boosting':score3[\"test_f1\"].mean(), 'Simple Decision Tree':score4[\"test_f1\"].mean()})\n",
    "accuracies = dict({'Ensemble with Bagging(Decision Tree)':score1[\"test_accuracy\"].mean(), 'Ensemble with Random Forest':score2[\"test_accuracy\"].mean(), 'Ensemble with Gradient Boosting':score3[\"test_accuracy\"].mean(), 'Simple Decision Tree':score4[\"test_accuracy\"].mean()})\n",
    "# Example f_measures = {'Simple Decision':0.8551, 'Ensemble with random ...': 0.92, ...}\n",
    "\n",
    "\n",
    "#END CODE HERE"
   ]
  },
  {
   "cell_type": "code",
   "execution_count": 6,
   "metadata": {
    "deletable": false,
    "editable": false,
    "nbgrader": {
     "cell_type": "code",
     "checksum": "0da6aad44e9bd8a9f7cc06eccec886c0",
     "grade": false,
     "grade_id": "cell-77f4dc2cd4cb2f7e",
     "locked": true,
     "schema_version": 3,
     "solution": false,
     "task": false
    }
   },
   "outputs": [
    {
     "name": "stdout",
     "output_type": "stream",
     "text": [
      "BaggingClassifier(base_estimator=DecisionTreeClassifier(ccp_alpha=0.0,\n",
      "                                                        class_weight=None,\n",
      "                                                        criterion='gini',\n",
      "                                                        max_depth=None,\n",
      "                                                        max_features=None,\n",
      "                                                        max_leaf_nodes=None,\n",
      "                                                        min_impurity_decrease=0.0,\n",
      "                                                        min_impurity_split=None,\n",
      "                                                        min_samples_leaf=1,\n",
      "                                                        min_samples_split=2,\n",
      "                                                        min_weight_fraction_leaf=0.0,\n",
      "                                                        presort='deprecated',\n",
      "                                                        random_state=42,\n",
      "                                                        splitter='best'),\n",
      "                  bootstrap=True, bootstrap_features=False, max_features=1.0,\n",
      "                  max_samples=1.0, n_estimators=100, n_jobs=2, oob_score=False,\n",
      "                  random_state=42, verbose=0, warm_start=False)\n",
      "RandomForestClassifier(bootstrap=True, ccp_alpha=0.0, class_weight=None,\n",
      "                       criterion='gini', max_depth=None, max_features='auto',\n",
      "                       max_leaf_nodes=None, max_samples=None,\n",
      "                       min_impurity_decrease=0.0, min_impurity_split=None,\n",
      "                       min_samples_leaf=1, min_samples_split=2,\n",
      "                       min_weight_fraction_leaf=0.0, n_estimators=100, n_jobs=2,\n",
      "                       oob_score=False, random_state=42, verbose=0,\n",
      "                       warm_start=False)\n",
      "GradientBoostingClassifier(ccp_alpha=0.0, criterion='friedman_mse', init=None,\n",
      "                           learning_rate=0.1, loss='deviance', max_depth=3,\n",
      "                           max_features=None, max_leaf_nodes=None,\n",
      "                           min_impurity_decrease=0.0, min_impurity_split=None,\n",
      "                           min_samples_leaf=1, min_samples_split=2,\n",
      "                           min_weight_fraction_leaf=0.0, n_estimators=100,\n",
      "                           n_iter_no_change=None, presort='deprecated',\n",
      "                           random_state=42, subsample=1.0, tol=0.0001,\n",
      "                           validation_fraction=0.1, verbose=0,\n",
      "                           warm_start=False)\n",
      "DecisionTreeClassifier(ccp_alpha=0.0, class_weight=None, criterion='gini',\n",
      "                       max_depth=None, max_features=None, max_leaf_nodes=None,\n",
      "                       min_impurity_decrease=0.0, min_impurity_split=None,\n",
      "                       min_samples_leaf=1, min_samples_split=2,\n",
      "                       min_weight_fraction_leaf=0.0, presort='deprecated',\n",
      "                       random_state=42, splitter='best')\n",
      "Classifier:Ensemble with Bagging(Decision Tree) -  F1:0.8448301612636973\n",
      "Classifier:Ensemble with Random Forest -  F1:0.8465422889981851\n",
      "Classifier:Ensemble with Gradient Boosting -  F1:0.850276802219823\n",
      "Classifier:Simple Decision Tree -  F1:0.7535170665460428\n",
      "Classifier:Ensemble with Bagging(Decision Tree) -  Accuracy:0.8095874531196727\n",
      "Classifier:Ensemble with Random Forest -  Accuracy:0.80839470394363\n",
      "Classifier:Ensemble with Gradient Boosting -  Accuracy:0.8174553926582566\n",
      "Classifier:Simple Decision Tree -  Accuracy:0.7116342766223435\n"
     ]
    }
   ],
   "source": [
    "print(ens1)\n",
    "print(ens2)\n",
    "print(ens3)\n",
    "print(tree)\n",
    "for name,score in f_measures.items():\n",
    "    print(\"Classifier:{} -  F1:{}\".format(name,score))\n",
    "for name,score in accuracies.items():\n",
    "    print(\"Classifier:{} -  Accuracy:{}\".format(name,score))"
   ]
  },
  {
   "cell_type": "markdown",
   "metadata": {
    "deletable": false,
    "editable": false,
    "nbgrader": {
     "cell_type": "markdown",
     "checksum": "48f3eafac80f6dd15441c4991c78836d",
     "grade": false,
     "grade_id": "cell-a6ea07f0be814a40",
     "locked": true,
     "schema_version": 3,
     "solution": false,
     "task": false
    }
   },
   "source": [
    "**2.2** Describe your classifiers and your results."
   ]
  },
  {
   "attachments": {
    "image.png": {
     "image/png": "[encoded data removed]"
    }
   },
   "cell_type": "markdown",
   "metadata": {
    "deletable": false,
    "nbgrader": {
     "cell_type": "markdown",
     "checksum": "9395efc3b936166e55b3bec6e0afdab3",
     "grade": true,
     "grade_id": "cell-399fc5e7254f1c58",
     "locked": false,
     "points": 5,
     "schema_version": 3,
     "solution": true,
     "task": false
    }
   },
   "source": [
    "### 2.0 Randomization ( Report )\n",
    "Here, we were asked to create 3 different homogeneous ensembles of decision trees and compare them to a simple decision tree classifier. The methods I used were:\n",
    "- ***No.1) Bagging***\n",
    "- ***No.2) Random Forest***\n",
    "- ***No.3) Gradient Boosting***\n",
    "- ***Simple Decision Tree***\n",
    "\n",
    "The corresponding results are shown on the image below:\n",
    "\n",
    "![image.png](attachment:image.png)\n",
    "\n",
    "We can see that the Gradient Boosting appears to achieve slightly better results in comparison to the other 2 ensembles, let alone the simple decision tree classifier."
   ]
  },
  {
   "cell_type": "markdown",
   "metadata": {
    "deletable": false,
    "editable": false,
    "nbgrader": {
     "cell_type": "markdown",
     "checksum": "f8edad6471eab5b0645f6ca46bab2f7a",
     "grade": false,
     "grade_id": "cell-a0de461bc76e0880",
     "locked": true,
     "schema_version": 3,
     "solution": false,
     "task": false
    }
   },
   "source": [
    "**2.3** Increasing the number of estimators in a bagging classifier can drastically increase the training time of a classifier. Is there any solution to this problem? Can the same solution be applied to boosting classifiers?"
   ]
  },
  {
   "cell_type": "markdown",
   "metadata": {
    "deletable": false,
    "nbgrader": {
     "cell_type": "markdown",
     "checksum": "c9573961dbe26d9ce6669df5da70a45a",
     "grade": true,
     "grade_id": "cell-0a28025407c78a48",
     "locked": false,
     "points": 5,
     "schema_version": 3,
     "solution": true,
     "task": false
    }
   },
   "source": [
    "When we increase the number of estimators, it is obvious that the time needed to compute the predictions will increase significantly. What we can do to solve this problem is to **parallelise** the fit() function, by *increasing the **n_jobs** parameter*. Potentially, we could put n_jobs = -1, in order to utilize all of our computer's cores.\n",
    "\n",
    "However, **boosting classifiers can't be easily parallelized**. The problem is that the weightings of the examples in the next iteration of the algorithm, depend on the performances of the previous iteration. This implies that a new iteration cannot be started before the previous one finishes and as a result, parallilism here is difficult *(maybe impossible?)*."
   ]
  },
  {
   "cell_type": "markdown",
   "metadata": {
    "deletable": false,
    "editable": false,
    "nbgrader": {
     "cell_type": "markdown",
     "checksum": "d016d23320010c4d8d9e8218cba553e8",
     "grade": false,
     "grade_id": "cell-35e46873d8c6537c",
     "locked": true,
     "schema_version": 3,
     "solution": false,
     "task": false
    }
   },
   "source": [
    "## 3.0 Creating the best classifier ##"
   ]
  },
  {
   "cell_type": "markdown",
   "metadata": {
    "deletable": false,
    "editable": false,
    "nbgrader": {
     "cell_type": "markdown",
     "checksum": "e7e2a127a27e4c9131e94ae73e6e325b",
     "grade": false,
     "grade_id": "cell-6de6582e696ba2d8",
     "locked": true,
     "schema_version": 3,
     "solution": false,
     "task": false
    }
   },
   "source": [
    "**3.1** In this part of the assignment you are asked to train the best possible ensemble! Describe the process you followed to achieve this result. How did you choose your classifier and your parameters and why. Report the f-measure & accuracy (10-fold cross validation) of your final classifier and results of classifiers you tried in the cell following the code. Can you achieve an accuracy over 83-84%?"
   ]
  },
  {
   "cell_type": "code",
   "execution_count": 18,
   "metadata": {
    "deletable": false,
    "nbgrader": {
     "cell_type": "code",
     "checksum": "f8d58b62ea96a7e0e0776f79c58e4b10",
     "grade": true,
     "grade_id": "cell-d1bba508731c9030",
     "locked": false,
     "points": 20,
     "schema_version": 3,
     "solution": true,
     "task": false
    }
   },
   "outputs": [],
   "source": [
    "# BEGIN CODE HERE\n",
    "\n",
    "ens1= LogisticRegression(n_jobs=jobs) \n",
    "ens2= GradientBoostingClassifier(n_estimators=100, random_state=RANDOM_STATE)\n",
    "ens3= BaggingClassifier(LogisticRegression(), n_estimators=100, n_jobs=jobs, random_state=RANDOM_STATE)\n",
    "ens4 = VotingClassifier([('ENS1', ens1), ('ENS2', ens2), ('ENS3', ens3)], voting='hard')                   # * CHOSEN *\n",
    "ens5 = StackingClassifier([(\"ENS1\", ens1),(\"ENS2\", ens2)]) \n",
    "\n",
    "scoreEns = cross_validate(ens4, X, y, cv=10, scoring=('f1','accuracy'), n_jobs=jobs)\n",
    "# print(\"Voting Classifier F1 Score:{}\".format(scoreEns[\"test_f1\"].mean()))           # For testing purposes\n",
    "# print(\"Voting Classifier Accuracy:{}\".format(scoreEns[\"test_accuracy\"].mean()))\n",
    "\n",
    "best_cls = ens4\n",
    "\n",
    "best_fmeasure = scoreEns[\"test_f1\"].mean()\n",
    "best_accuracy = scoreEns[\"test_accuracy\"].mean()\n",
    "\n",
    "#END CODE HERE"
   ]
  },
  {
   "cell_type": "code",
   "execution_count": 21,
   "metadata": {
    "deletable": false,
    "editable": false,
    "nbgrader": {
     "cell_type": "code",
     "checksum": "1ecc691ce956fad47c497b9849747c34",
     "grade": false,
     "grade_id": "cell-39673f451b660dcc",
     "locked": true,
     "schema_version": 3,
     "solution": false,
     "task": false
    }
   },
   "outputs": [
    {
     "name": "stdout",
     "output_type": "stream",
     "text": [
      "Classifier:\n",
      "VotingClassifier(estimators=[('ENS1',\n",
      "                              LogisticRegression(C=1.0, class_weight=None,\n",
      "                                                 dual=False, fit_intercept=True,\n",
      "                                                 intercept_scaling=1,\n",
      "                                                 l1_ratio=None, max_iter=100,\n",
      "                                                 multi_class='auto', n_jobs=2,\n",
      "                                                 penalty='l2',\n",
      "                                                 random_state=None,\n",
      "                                                 solver='lbfgs', tol=0.0001,\n",
      "                                                 verbose=0, warm_start=False)),\n",
      "                             ('ENS2',\n",
      "                              GradientBoostingClassifier(ccp_alpha=0.0,\n",
      "                                                         criterion='friedman_mse',\n",
      "                                                         init=...\n",
      "                                                                                  max_iter=100,\n",
      "                                                                                  multi_class='auto',\n",
      "                                                                                  n_jobs=None,\n",
      "                                                                                  penalty='l2',\n",
      "                                                                                  random_state=None,\n",
      "                                                                                  solver='lbfgs',\n",
      "                                                                                  tol=0.0001,\n",
      "                                                                                  verbose=0,\n",
      "                                                                                  warm_start=False),\n",
      "                                                bootstrap=True,\n",
      "                                                bootstrap_features=False,\n",
      "                                                max_features=1.0,\n",
      "                                                max_samples=1.0,\n",
      "                                                n_estimators=100, n_jobs=2,\n",
      "                                                oob_score=False,\n",
      "                                                random_state=42, verbose=0,\n",
      "                                                warm_start=False))],\n",
      "                 flatten_transform=True, n_jobs=None, voting='hard',\n",
      "                 weights=None)\n",
      "F1-Score:0.8721103339749916 & Accuracy:0.8481946812137743\n"
     ]
    }
   ],
   "source": [
    "print(\"Classifier:\")\n",
    "print(best_cls)\n",
    "print(\"F1-Score:{} & Accuracy:{}\".format(best_fmeasure,best_accuracy))"
   ]
  },
  {
   "cell_type": "markdown",
   "metadata": {
    "deletable": false,
    "editable": false,
    "nbgrader": {
     "cell_type": "markdown",
     "checksum": "667632db5afb6f143062507bae31063f",
     "grade": false,
     "grade_id": "cell-6a072817c64ce4a1",
     "locked": true,
     "schema_version": 3,
     "solution": false,
     "task": false
    }
   },
   "source": [
    "**3.2** Describe the process you followed to achieve this result. How did you choose your classifier and your parameters and why. Report the f-measure & accuracy (10-fold cross validation) of your final classifier and results of classifiers you tried in the cell following the code."
   ]
  },
  {
   "attachments": {
    "image.png": {
     "image/png": "[encoded data removed]"
    }
   },
   "cell_type": "markdown",
   "metadata": {
    "deletable": false,
    "nbgrader": {
     "cell_type": "markdown",
     "checksum": "3abcb52a70fcb6da4f93980026b8e593",
     "grade": true,
     "grade_id": "cell-5f1d5ba45ffeb074",
     "locked": false,
     "points": 5,
     "schema_version": 3,
     "solution": true,
     "task": false
    }
   },
   "source": [
    "# 3.0 Creating the best classifier ( Report )\n",
    "\n",
    "I tried many ensemble classifiers with different parameters and i finally ended up with the classifiers with the best results, that I include in the exercise above.\n",
    "\n",
    "The results of each can be shown here:\n",
    "\n",
    "![image.png](attachment:image.png)\n",
    "\n",
    "As a result, the **No.4 ensemble** achieved the best possible results, achieving accuracy of more than 85% *(84.8% due to using different cross validation methods on Jupyter and Collab)*  on this particular dataset. ***This Ensemble*** is a ***Hard Voting Classifier*** that uses ***Logistic Regression, Gradient Boosting and a Bagging Classifier(Logistic Regression)***."
   ]
  },
  {
   "cell_type": "markdown",
   "metadata": {
    "deletable": false,
    "editable": false,
    "nbgrader": {
     "cell_type": "markdown",
     "checksum": "22500bda285c8dc9375ee048e883be55",
     "grade": false,
     "grade_id": "cell-5b27d068d1fbfa37",
     "locked": true,
     "schema_version": 3,
     "solution": false,
     "task": false
    }
   },
   "source": [
    "**3.3** Create a classifier that is going to be used in production - in a live system. Use the *test_set_noclass.csv* to make predictions. Store the predictions in a list.  "
   ]
  },
  {
   "cell_type": "code",
   "execution_count": 35,
   "metadata": {
    "deletable": false,
    "nbgrader": {
     "cell_type": "code",
     "checksum": "c40bf6a2d6e630b217742246c20d2560",
     "grade": true,
     "grade_id": "cell-ab69a2863e87fd72",
     "locked": false,
     "points": 10,
     "schema_version": 3,
     "solution": true,
     "task": false
    }
   },
   "outputs": [],
   "source": [
    "# BEGIN CODE HERE\n",
    "\n",
    "# First we load the test dataset\n",
    "\n",
    "test_set = pd.read_csv(\"test_set_noclass.csv\").sample(frac=1).reset_index(drop=True)\n",
    "X_test = test_set\n",
    "\n",
    "\n",
    "ens1= LogisticRegression(n_jobs=jobs) \n",
    "ens2= GradientBoostingClassifier(n_estimators=100, random_state=RANDOM_STATE)\n",
    "ens3= BaggingClassifier(LogisticRegression(), n_estimators=100, n_jobs=jobs, random_state=RANDOM_STATE)\n",
    "\n",
    "cls = VotingClassifier([('Logistic Regression', ens1), ('Gradient Boosting', ens2), ('Bagging(Logistic Regression)', ens3)], voting='hard')                 \n",
    "\n",
    "model = cls.fit(X,y)\n",
    "y_pred = model.predict(X_test)\n",
    "\n",
    "\n",
    "predictions = y_pred\n",
    "\n",
    "#END CODE HERE"
   ]
  },
  {
   "cell_type": "code",
   "execution_count": 42,
   "metadata": {
    "deletable": false,
    "editable": false,
    "nbgrader": {
     "cell_type": "code",
     "checksum": "ace9dbe06e5607ddf9353befef8472c0",
     "grade": false,
     "grade_id": "cell-d98d6687c3bbe4ee",
     "locked": true,
     "schema_version": 3,
     "solution": false,
     "task": false
    }
   },
   "outputs": [
    {
     "name": "stdout",
     "output_type": "stream",
     "text": [
      "VotingClassifier(estimators=[('Logistic Regression',\n",
      "                              LogisticRegression(C=1.0, class_weight=None,\n",
      "                                                 dual=False, fit_intercept=True,\n",
      "                                                 intercept_scaling=1,\n",
      "                                                 l1_ratio=None, max_iter=100,\n",
      "                                                 multi_class='auto', n_jobs=2,\n",
      "                                                 penalty='l2',\n",
      "                                                 random_state=None,\n",
      "                                                 solver='lbfgs', tol=0.0001,\n",
      "                                                 verbose=0, warm_start=False)),\n",
      "                             ('Gradient Boosting',\n",
      "                              GradientBoostingClassifier(ccp_alpha=0.0,\n",
      "                                                         crit...\n",
      "                                                                                  max_iter=100,\n",
      "                                                                                  multi_class='auto',\n",
      "                                                                                  n_jobs=None,\n",
      "                                                                                  penalty='l2',\n",
      "                                                                                  random_state=None,\n",
      "                                                                                  solver='lbfgs',\n",
      "                                                                                  tol=0.0001,\n",
      "                                                                                  verbose=0,\n",
      "                                                                                  warm_start=False),\n",
      "                                                bootstrap=True,\n",
      "                                                bootstrap_features=False,\n",
      "                                                max_features=1.0,\n",
      "                                                max_samples=1.0,\n",
      "                                                n_estimators=100, n_jobs=2,\n",
      "                                                oob_score=False,\n",
      "                                                random_state=42, verbose=0,\n",
      "                                                warm_start=False))],\n",
      "                 flatten_transform=True, n_jobs=None, voting='hard',\n",
      "                 weights=None)\n",
      "[0 0 0 ... 1 0 0]\n"
     ]
    }
   ],
   "source": [
    "print(cls)\n",
    "print(predictions)"
   ]
  },
  {
   "cell_type": "markdown",
   "metadata": {
    "deletable": false,
    "editable": false,
    "nbgrader": {
     "cell_type": "markdown",
     "checksum": "1af1d441fd486d53e45173d4f352ba8c",
     "grade": false,
     "grade_id": "cell-966633c679d5c960",
     "locked": true,
     "schema_version": 3,
     "solution": false,
     "task": false
    }
   },
   "source": [
    "LEAVE HERE ANY COMMENTS ABOUT YOUR CLASSIFIER"
   ]
  },
  {
   "cell_type": "markdown",
   "metadata": {},
   "source": [
    "I used the same ensemble I constructed on the previous exercise.\n",
    "\n",
    "Since our the description \"production - live system\" doesn't really specify any time limit, I will stick to my previous ensemble, even though it is somewhat slow.\n",
    "\n",
    "If the time limit was small, I would use an enemble without boosting techniques because as we mentioned on 2.3 , their function can not be performed parallely.\n"
   ]
  },
  {
   "cell_type": "markdown",
   "metadata": {
    "deletable": false,
    "editable": false,
    "nbgrader": {
     "cell_type": "markdown",
     "checksum": "24dbe2151df25b6e5b36e988a8e38dcb",
     "grade": false,
     "grade_id": "cell-78ffc0c68225fb1a",
     "locked": true,
     "schema_version": 3,
     "solution": false,
     "task": false
    }
   },
   "source": [
    "#### This following cell will not be executed. The test_set.csv with the classes will be made available after the deadline and this cell is for testing purposes!!! Do not modify it! ###"
   ]
  },
  {
   "cell_type": "code",
   "execution_count": null,
   "metadata": {
    "deletable": false,
    "editable": false,
    "nbgrader": {
     "cell_type": "code",
     "checksum": "ddcf51aaeaaa305540873fd0012a4b06",
     "grade": false,
     "grade_id": "cell-7946d9ee342bf549",
     "locked": true,
     "schema_version": 3,
     "solution": false,
     "task": false
    }
   },
   "outputs": [],
   "source": [
    "from sklearn.metrics import f1_score,accuracy_score\n",
    "final_test_set = pd.read_csv('test_set.csv')\n",
    "ground_truth = final_test_set['CLASS']\n",
    "print(\"Accuracy:{}\".format(accuracy_score(predictions,ground_truth)))\n",
    "print(\"F1-Score:{}\".format(f1_score(predictions,ground_truth)))"
   ]
  }
 ],
 "metadata": {
  "kernelspec": {
   "display_name": "Python 3",
   "language": "python",
   "name": "python3"
  },
  "language_info": {
   "codemirror_mode": {
    "name": "ipython",
    "version": 3
   },
   "file_extension": ".py",
   "mimetype": "text/x-python",
   "name": "python",
   "nbconvert_exporter": "python",
   "pygments_lexer": "ipython3",
   "version": "3.7.1"
  }
 },
 "nbformat": 4,
 "nbformat_minor": 4
}
